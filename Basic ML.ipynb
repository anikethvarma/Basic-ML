{
  "nbformat": 4,
  "nbformat_minor": 0,
  "metadata": {
    "colab": {
      "name": "Untitled1.ipynb",
      "provenance": [],
      "collapsed_sections": [],
      "authorship_tag": "ABX9TyMndY+tUa5vPee3UcAPrruD",
      "include_colab_link": true
    },
    "kernelspec": {
      "name": "python3",
      "display_name": "Python 3"
    },
    "language_info": {
      "name": "python"
    }
  },
  "cells": [
    {
      "cell_type": "markdown",
      "metadata": {
        "id": "view-in-github",
        "colab_type": "text"
      },
      "source": [
        "<a href=\"https://colab.research.google.com/github/anikethvarma/Basic-ML/blob/main/Basic%20ML.ipynb\" target=\"_parent\"><img src=\"https://colab.research.google.com/assets/colab-badge.svg\" alt=\"Open In Colab\"/></a>"
      ]
    },
    {
      "cell_type": "code",
      "metadata": {
        "colab": {
          "base_uri": "https://localhost:8080/"
        },
        "id": "4mMtCmlQehjC",
        "outputId": "3ddcb7b3-1c35-49a4-c130-5f9926c0ca56"
      },
      "source": [
        "#Factorial of a number\n",
        "def factorial(n):\n",
        "  if n==0 or n==1:\n",
        "    return 1\n",
        "  return n*factorial(n-1)\n",
        "n = int(input())\n",
        "result= factorial(n)\n",
        "print(result)"
      ],
      "execution_count": 1,
      "outputs": [
        {
          "output_type": "stream",
          "text": [
            "6\n",
            "720\n"
          ],
          "name": "stdout"
        }
      ]
    },
    {
      "cell_type": "code",
      "metadata": {
        "colab": {
          "base_uri": "https://localhost:8080/"
        },
        "id": "pIw0CA7LfEz7",
        "outputId": "e618287b-0660-4de3-d69a-5a7954db7192"
      },
      "source": [
        "#Palindrome checking\n",
        "a = input()\n",
        "if a == a[::-1]:\n",
        "  print(\"Palindrome\")\n",
        "else:\n",
        "  print(\"Not a Palindrome\")"
      ],
      "execution_count": 2,
      "outputs": [
        {
          "output_type": "stream",
          "text": [
            "12321\n",
            "Palindrome\n"
          ],
          "name": "stdout"
        }
      ]
    },
    {
      "cell_type": "code",
      "metadata": {
        "colab": {
          "base_uri": "https://localhost:8080/"
        },
        "id": "_rbD3xj7gE5x",
        "outputId": "c7e697ef-0b80-4854-e31a-f7a1dc49a4b1"
      },
      "source": [
        "#Prime number Checking\n",
        "n = int(input())\n",
        "is_prime = True\n",
        "for i in range(2,n):\n",
        "  if n%i==0:\n",
        "    is_prime = False\n",
        "if is_prime:\n",
        "  print(\"Prime Number\")\n",
        "else:\n",
        "  print(\"Not a Prime Number\")"
      ],
      "execution_count": 3,
      "outputs": [
        {
          "output_type": "stream",
          "text": [
            "7\n",
            "Prime Number\n"
          ],
          "name": "stdout"
        }
      ]
    },
    {
      "cell_type": "code",
      "metadata": {
        "id": "3nT1By5MiuBf"
      },
      "source": [
        ""
      ],
      "execution_count": null,
      "outputs": []
    }
  ]
}